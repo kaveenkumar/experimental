{
 "cells": [
  {
   "cell_type": "markdown",
   "metadata": {},
   "source": [
    "# Regular Expressions\n",
    "Regular expressions (REs, or regexes, or regex patterns) are a powerful language for matching text patterns. Possible pattern examples for searches are, e.g., E-mail addresses or domain names. This article gives a basic introduction to regular expressions and shows how regular expressions work in Python. It will cover all the necessary concepts:\n",
    "\n",
    "1) Methods to search for matches  \n",
    "2) Methods on a match object  \n",
    "3) Meta characters  \n",
    "4) More special sequences  \n",
    "5) Sets  \n",
    "6) Quantifier  \n",
    "7) Conditions  \n",
    "8) Grouping  \n",
    "9) Examples  \n",
    "10) Modification  \n",
    "11) Compilation flags  "
   ]
  },
 "metadata": {
  "kernelspec": {
   "display_name": "Python (pyeng_env)",
   "language": "python",
   "name": "pyeng_env"
  },
  "language_info": {
   "codemirror_mode": {
    "name": "ipython",
    "version": 3
   },
   "file_extension": ".py",
   "mimetype": "text/x-python",
   "name": "python",
   "nbconvert_exporter": "python",
   "pygments_lexer": "ipython3",
   "version": "3.7.6"
  }
 },
 "nbformat": 4,
 "nbformat_minor": 4
}
