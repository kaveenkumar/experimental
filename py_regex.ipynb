{
 "cells": [
  {
   "cell_type": "markdown",
   "metadata": {},
   "source": [
    "# Regular Expressions\n",
    "Regular expressions (REs, or regexes, or regex patterns) are a powerful language for matching text patterns. Possible pattern examples for searches are, e.g., E-mail addresses or domain names. This article gives a basic introduction to regular expressions and shows how regular expressions work in Python. It will cover all the necessary concepts:\n",
    "\n",
    "1) Methods to search for matches  \n",
    "2) Methods on a match object  \n",
    "3) Meta characters  \n",
    "4) More special sequences  \n",
    "5) Sets  \n",
    "6) Quantifier  \n",
    "7) Conditions  \n",
    "8) Grouping  \n",
    "9) Examples  \n",
    "10) Modification  \n",
    "11) Compilation flags  "
   ]
  },
  {
   "cell_type": "markdown",
   "metadata": {},
   "source": [
    "Regular expressions inside Python are made available through the re module:"
   ]
  },
  {
   "cell_type": "code",
   "execution_count": 5,
   "metadata": {},
   "outputs": [],
   "source": [
    "import re"
   ]
  },
  {
   "cell_type": "markdown",
   "metadata": {},
   "source": [
    "Using regexes, you specify the rules for the set of possible strings that you want to match.\n",
    "Typically we first define our pattern that we want to search for, and use `re.compile()` on it. By default, our pattern is case sensitive."
   ]
  },
  {
   "cell_type": "code",
   "execution_count": 6,
   "metadata": {},
   "outputs": [],
   "source": [
    "test_string = '123abc456789abc123ABC'\n",
    "pattern = re.compile(r'abc')"
   ]
  },
  {
   "cell_type": "markdown",
   "metadata": {},
   "source": [
    "Note: It is recommended to use raw strings for the search:"
   ]
  },
  {
   "cell_type": "code",
   "execution_count": 7,
   "metadata": {
    "scrolled": true
   },
   "outputs": [
    {
     "name": "stdout",
     "output_type": "stream",
     "text": [
      "\tHello\n",
      "\\tHello\n"
     ]
    }
   ],
   "source": [
    "## Use raw strings for the search pattern\n",
    "a = '\\tHello'\n",
    "b = r'\\tHello'\n",
    "print(a)\n",
    "print(b)"
   ]
  },
  {
   "cell_type": "markdown",
   "metadata": {},
   "source": [
    "### Performing matches with compiled objects\n",
    "Once we have our pattern, we can search for this pattern in the text / string that we want to look up. \n",
    "- match(): Determine if the RE matches at the beginning of the string.\n",
    "- search(): Scan through a string, looking for any location where this RE matches.\n",
    "- findall(): Find all substrings where the RE matches, and returns them as a list.\n",
    "- finditer(): Find all substrings where the RE matches, and returns them as an iterator.\n",
    "\n",
    "#### Modification methods\n",
    "We will cover these methods later:\n",
    "- split(): Returns a list where the string has been split at each match\n",
    "- sub(): Replaces one or many matches with a string  "
   ]
  },
  {
   "cell_type": "code",
   "execution_count": 8,
   "metadata": {},
   "outputs": [
    {
     "name": "stdout",
     "output_type": "stream",
     "text": [
      "<re.Match object; span=(0, 3), match='123'>\n",
      "(0, 3) 0 3\n",
      "123\n",
      "<re.Match object; span=(15, 18), match='123'>\n",
      "(15, 18) 15 18\n",
      "123\n",
      "\n",
      "123\n",
      "123\n",
      "\n",
      "None\n",
      "<re.Match object; span=(0, 3), match='abc'>\n",
      "\n",
      "<re.Match object; span=(0, 3), match='abc'>\n"
     ]
    }
   ],
   "source": [
    "# finditer()\n",
    "my_string = 'abc123ABC123abc'\n",
    "pattern = re.compile(r'123')\n",
    "matches = pattern.finditer(test_string)\n",
    "for match in matches:\n",
    "    print(match)\n",
    "    print(match.span(), match.start(), match.end())\n",
    "    print(match.group()) # returns the string\n",
    "\n",
    "print()\n",
    "# findall()\n",
    "pattern = re.compile(r'123')\n",
    "matches = pattern.findall(my_string)\n",
    "for match in matches:\n",
    "    print(match)\n",
    "\n",
    "print()\n",
    "# match\n",
    "match = pattern.match(my_string)\n",
    "print(match)\n",
    "pattern = re.compile(r'abc')\n",
    "match = pattern.match(my_string)\n",
    "print(match)\n",
    "\n",
    "print()\n",
    "# search\n",
    "match = pattern.search(my_string)\n",
    "print(match)"
   ]
  },
  {
   "cell_type": "markdown",
   "metadata": {},
   "source": [
    "Note: Methods can also be used directly on the `re` module. It does not make that much of a difference, but some people prefer explicitely precompiling and binding the pattern to a reusable variable. (See https://stackoverflow.com/questions/452104/is-it-worth-using-pythons-re-compile)"
   ]
  },
  {
   "cell_type": "code",
   "execution_count": 9,
   "metadata": {},
   "outputs": [
    {
     "name": "stdout",
     "output_type": "stream",
     "text": [
      "<re.Match object; span=(3, 6), match='abc'>\n",
      "<re.Match object; span=(12, 15), match='abc'>\n"
     ]
    }
   ],
   "source": [
    "matches = re.finditer(r'abc', test_string)\n",
    "for match in matches:\n",
    "    print(match)"
   ]
  },
  {
   "cell_type": "markdown",
   "metadata": {},
   "source": [
    "### Methods on a Match object\n",
    "- group(): Return the string matched by the RE\n",
    "- start(): Return the starting position of the match\n",
    "- end(): Return the ending position of the match\n",
    "- span(): Return a tuple containing the (start, end) positions of the match"
   ]
  },
  {
   "cell_type": "code",
   "execution_count": 10,
   "metadata": {},
   "outputs": [
    {
     "name": "stdout",
     "output_type": "stream",
     "text": [
      "<re.Match object; span=(3, 6), match='abc'>\n",
      "(3, 6) 3 6\n",
      "abc\n",
      "<re.Match object; span=(12, 15), match='abc'>\n",
      "(12, 15) 12 15\n",
      "abc\n"
     ]
    }
   ],
   "source": [
    "test_string = '123abc456789abc123ABC'\n",
    "pattern = re.compile(r'abc')\n",
    "matches = pattern.finditer(test_string)\n",
    "for match in matches:\n",
    "    print(match)\n",
    "    print(match.span(), match.start(), match.end())\n",
    "    print(match.group()) # returns the substring that was matched by the RE"
   ]
  },
  {
   "cell_type": "markdown",
   "metadata": {},
   "source": [
    "### Meta characters\n",
    "Metacharacters are characters with a special meaning:  \n",
    "All meta characters: **. ^ $ * + ? { } [ ] \\ | ( )**  \n",
    "Meta characters need need to be escaped (with \\) if we actually want to search for the char.\n",
    "\n",
    "- . Any character (except newline character) \"he..o\"\n",
    "- ^ Starts with\t\"^hello\"\n",
    "- \\\\$ Ends with \"world\\$\"\n",
    "- \\* Zero or more occurrences \"aix*\"\n",
    "- \\+ One or more occurrences \"aix+\"\n",
    "- { } Exactly the specified number of occurrences \"al{2}\"\n",
    "- [] A set of characters \"[a-m]\"\n",
    "- \\ Signals a special sequence (can also be used to escape special characters) \"\\d\"\n",
    "- | Either or \"falls|stays\"\n",
    "- ( ) Capture and group"
   ]
  },
  {
   "cell_type": "code",
   "execution_count": 11,
   "metadata": {},
   "outputs": [
    {
     "name": "stdout",
     "output_type": "stream",
     "text": [
      "<re.Match object; span=(15, 16), match='.'>\n"
     ]
    }
   ],
   "source": [
    "test_string = 'python-engineer.com'\n",
    "pattern = re.compile(r'\\.')\n",
    "matches = pattern.finditer(test_string)\n",
    "for match in matches:\n",
    "    print(match)"
   ]
  },
  {
   "cell_type": "markdown",
   "metadata": {},
   "source": [
    "### More Metacharacters / Special Sequences\n",
    "A special sequence is a \\ followed by one of the characters in the list below, and has a special meaning:\n",
    "\n",
    "- \\d :Matches any decimal digit; this is equivalent to the class [0-9].  \n",
    "- \\D : Matches any non-digit character; this is equivalent to the class [^0-9].  \n",
    "- \\s : Matches any whitespace character; this is equivalent to the class [ \\t\\n\\r\\f\\v].  \n",
    "- \\S : Matches any non-whitespace character; this is equivalent to the class [^ \\t\\n\\r\\f\\v].  \n",
    "- \\w : Matches any alphanumeric (word) character; this is equivalent to the class [a-zA-Z0-9_]. \n",
    "- \\W : Matches any non-alphanumeric character; this is equivalent to the class [^a-zA-Z0-9_]. \n",
    "- \\b\tReturns a match where the specified characters are at the beginning or at the end of a word\tr\"\\bain\"\n",
    "r\"ain\\b\"\t\n",
    "- \\B\tReturns a match where the specified characters are present, but NOT at the beginning (or at the end) of a word\tr\"\\Bain\"\n",
    "r\"ain\\B\"\n",
    "- \\A\tReturns a match if the specified characters are at the beginning of the string\t\"\\AThe\"\t\n",
    "- \\Z\tReturns a match if the specified characters are at the end of the string\t\"Spain\\Z\""
   ]
  },
  {
   "cell_type": "code",
   "execution_count": 12,
   "metadata": {},
   "outputs": [
    {
     "name": "stdout",
     "output_type": "stream",
     "text": [
      "<re.Match object; span=(6, 7), match='1'>\n",
      "<re.Match object; span=(7, 8), match='2'>\n",
      "<re.Match object; span=(8, 9), match='3'>\n",
      "\n",
      "<re.Match object; span=(5, 6), match=' '>\n",
      "<re.Match object; span=(10, 11), match=' '>\n",
      "<re.Match object; span=(16, 17), match=' '>\n",
      "\n",
      "<re.Match object; span=(0, 1), match='h'>\n",
      "<re.Match object; span=(1, 2), match='e'>\n",
      "<re.Match object; span=(2, 3), match='l'>\n",
      "<re.Match object; span=(3, 4), match='l'>\n",
      "<re.Match object; span=(4, 5), match='o'>\n",
      "<re.Match object; span=(6, 7), match='1'>\n",
      "<re.Match object; span=(7, 8), match='2'>\n",
      "<re.Match object; span=(8, 9), match='3'>\n",
      "<re.Match object; span=(9, 10), match='_'>\n",
      "<re.Match object; span=(11, 12), match='h'>\n",
      "<re.Match object; span=(12, 13), match='e'>\n",
      "<re.Match object; span=(13, 14), match='y'>\n",
      "<re.Match object; span=(14, 15), match='h'>\n",
      "<re.Match object; span=(15, 16), match='o'>\n",
      "<re.Match object; span=(17, 18), match='h'>\n",
      "<re.Match object; span=(18, 19), match='o'>\n",
      "<re.Match object; span=(19, 20), match='h'>\n",
      "<re.Match object; span=(20, 21), match='e'>\n",
      "<re.Match object; span=(21, 22), match='y'>\n",
      "\n",
      "<re.Match object; span=(0, 3), match='hey'>\n",
      "\n",
      "<re.Match object; span=(0, 5), match='hello'>\n",
      "\n"
     ]
    }
   ],
   "source": [
    "test_string = 'hello 123_ heyho hohey'\n",
    "pattern = re.compile(r'\\d')\n",
    "matches = pattern.finditer(test_string)\n",
    "for match in matches:\n",
    "    print(match)\n",
    "\n",
    "print()\n",
    "pattern = re.compile(r'\\s')\n",
    "matches = pattern.finditer(test_string)\n",
    "for match in matches:\n",
    "    print(match)\n",
    "    \n",
    "print()\n",
    "pattern = re.compile(r'\\w')\n",
    "matches = pattern.finditer(test_string)\n",
    "for match in matches:\n",
    "    print(match)\n",
    "    \n",
    "print()\n",
    "pattern = re.compile(r'\\bhey')\n",
    "matches = pattern.finditer('heyho hohey') # ho-hey, ho\\nhey are matches!\n",
    "for match in matches:\n",
    "    print(match)\n",
    "    \n",
    "print()\n",
    "pattern = re.compile(r'\\Ahello')\n",
    "matches = pattern.finditer(test_string)\n",
    "for match in matches:\n",
    "    print(match)\n",
    "    \n",
    "print()\n",
    "pattern = re.compile(r'123_\\Z')\n",
    "matches = pattern.finditer(test_string)\n",
    "for match in matches:\n",
    "    print(match)"
   ]
  },
 "metadata": {
  "kernelspec": {
   "display_name": "Python (pyeng_env)",
   "language": "python",
   "name": "pyeng_env"
  },
  "language_info": {
   "codemirror_mode": {
    "name": "ipython",
    "version": 3
   },
   "file_extension": ".py",
   "mimetype": "text/x-python",
   "name": "python",
   "nbconvert_exporter": "python",
   "pygments_lexer": "ipython3",
   "version": "3.7.6"
  }
 },
 "nbformat": 4,
 "nbformat_minor": 4
}
