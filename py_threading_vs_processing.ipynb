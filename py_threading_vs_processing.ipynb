{
 "cells": [
  {
   "cell_type": "markdown",
   "metadata": {},
   "source": [
    "# Threading vs Multiprocessing\n",
    "We have two common approaches to run code in parallel (achieve multitasking and speed up your program) : via threads or via multiple processes.\n",
    "## Process\n",
    "A Process is an instance of a program, e.g. a Python interpreter. They are independent from each other and do not share the same memory.\n",
    "\n",
    "Key facts:\n",
    "- A new process is started independently from the first process\n",
    "- Takes advantage of multiple CPUs and cores\n",
    "- Separate memory space\n",
    "- Memory is not shared between processes\n",
    "- One GIL (Global interpreter lock) for each process, i.e. avoids GIL limitation\n",
    "- Great for CPU-bound processing\n",
    "- Child processes are interruptable/killable\n",
    "\n",
    "\n",
    "- Starting a process is slower that starting a thread\n",
    "- Larger memory footprint\n",
    "- IPC (inter-process communication) is more complicated\n",
    "\n",
    "## Threads\n",
    "A thread is an entity within a process that can be scheduled for execution (Also known as \"leightweight process\"). A Process can spawn multiple threads.\n",
    "The main difference is that all threads within a process share the same memory.\n",
    "\n",
    "Key facts:\n",
    "- Multiple threads can be spawned within one process\n",
    "- Memory is shared between all threads\n",
    "- Starting a thread is faster than starting a process\n",
    "- Great for I/O-bound tasks\n",
    "- Leightweight - low memory footprint\n",
    "  \n",
    "\n",
    "- One GIL for all threads, i.e. threads are limited by GIL\n",
    "- Multithreading has no effect for CPU-bound tasks due to the GIL\n",
    "- Not interruptible/killable -> be careful with memory leaks\n",
    "- increased potential for race conditions"
   ]
  },
  {
   "cell_type": "markdown",
   "metadata": {},
   "source": [
    "## Threading in Python\n",
    "Use the `threading` module. \n",
    "\n",
    "Note: The following example usually won't benefit from multiple threads since it is CPU-bound. It should just show the example of how to use threads."
   ]
  },
  {
   "cell_type": "code",
   "execution_count": 9,
   "metadata": {
    "collapsed": true
   },
   "outputs": [],
   "source": [
    "from threading import Thread\n",
    "\n",
    "def square_numbers():\n",
    "    for i in range(1000):\n",
    "        result = i * i\n",
    "\n",
    "        \n",
    "if __name__ == \"__main__\":        \n",
    "    threads = []\n",
    "    num_threads = 10\n",
    "\n",
    "    # create threads and asign a function for each thread\n",
    "    for i in range(num_threads):\n",
    "        thread = Thread(target=square_numbers)\n",
    "        threads.append(thread)\n",
    "\n",
    "    # start all threads\n",
    "    for thread in threads:\n",
    "        thread.start()\n",
    "\n",
    "    # wait for all threads to finish\n",
    "    # block the main thread until these threads are finished\n",
    "    for thread in threads:\n",
    "        thread.join()"
   ]
  },
  {
   "cell_type": "markdown",
   "metadata": {},
   "source": [
    "### When is Threading useful\n",
    "Despite the GIL it is useful for I/O-bound tasks when your program has to talk to slow devices, like a hard drive or a network connection. With threading the program can use the time waiting for these devices and intelligently do other tasks in the meantime.  \n",
    "\n",
    "Example: Download website information from multiple sites. Use a thread for each site."
   ]
  },
  {
   "cell_type": "markdown",
   "metadata": {},
   "source": [
    "## Multiprocessing\n",
    "Use the `multiprocessing` module. The syntax is very similar to above."
   ]
  },
  {
   "cell_type": "code",
   "execution_count": 10,
   "metadata": {
    "collapsed": true
   },
   "outputs": [],
   "source": [
    "from multiprocessing import Process\n",
    "import os\n",
    "\n",
    "\n",
    "def square_numbers():\n",
    "    for i in range(1000):\n",
    "        result = i * i\n",
    "\n",
    "\n",
    "if __name__ == \"__main__\":\n",
    "    processes = []\n",
    "    num_processes = os.cpu_count()\n",
    "\n",
    "    # create processes and asign a function for each process\n",
    "    for i in range(num_processes):\n",
    "        process = Process(target=square_numbers)\n",
    "        processes.append(process)\n",
    "\n",
    "    # start all processes\n",
    "    for process in processes:\n",
    "        process.start()\n",
    "\n",
    "    # wait for all processes to finish\n",
    "    # block the main thread until these processes are finished\n",
    "    for process in processes:\n",
    "        process.join()"
   ]
  },
  {
   "cell_type": "markdown",
   "metadata": {},
   "source": [
    "### When is Multiprocessing useful\n",
    "It is useful for CPU-bound tasks that have to do a lot of CPU operations for a large amount of data and require a lot of computation time. With multiprocessing you can\n",
    "split the data into equal parts an do parallel computing on different CPUs.\n",
    "\n",
    "Example: Calculate the square numbers for all numbers from 1 to 1000000. Divide the numbers into equal sized parts and use a process for each subset."
   ]
  },
 "metadata": {
  "kernelspec": {
   "display_name": "Python [conda env:pythonengineer_env]",
   "language": "python",
   "name": "conda-env-pythonengineer_env-py"
  },
  "language_info": {
   "codemirror_mode": {
    "name": "ipython",
    "version": 3
   },
   "file_extension": ".py",
   "mimetype": "text/x-python",
   "name": "python",
   "nbconvert_exporter": "python",
   "pygments_lexer": "ipython3",
   "version": "3.7.3"
  }
 },
 "nbformat": 4,
 "nbformat_minor": 2
}
