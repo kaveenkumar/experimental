{
 "cells": [
  {
   "cell_type": "markdown",
   "metadata": {},
   "source": [
    "# Threading in Python\n",
    "In this article we talk about how to use the `threading` module in Python.\n",
    "\n",
    "- How to create and start multiple threads\n",
    "- How to wait for threads to complete\n",
    "- How to share data between threads\n",
    "- How to use `Locks` to prevent race conditions\n",
    "- What is a daemon thread\n",
    "- How to use a `Queue` for thread-safe data/task processing."
   ]
  },
  {
   "cell_type": "markdown",
   "metadata": {},
   "source": [
    "## Create and run threads\n",
    "You create a thread with `threading.Thread()`. It takes two important arguments:\n",
    "    \n",
    "- `target`: a callable object (function) for this thread to be invoked when the thread starts\n",
    "- `args`: the (function) arguments for the target function. This must be a tuple\n",
    "\n",
    "Start a thread with `thread.start()`\n",
    "\n",
    "Call `thread.join()` to tell the program that it should wait for this thread to complete before it continues with the rest of the code."
   ]
  },
  {
   "cell_type": "code",
   "execution_count": 1,
   "metadata": {
    "collapsed": true
   },
   "outputs": [],
   "source": [
    "from threading import Thread\n",
    "\n",
    "def square_numbers():\n",
    "    for i in range(1000):\n",
    "        result = i * i\n",
    "\n",
    "        \n",
    "if __name__ == \"__main__\":        \n",
    "    threads = []\n",
    "    num_threads = 10\n",
    "\n",
    "    # create threads and asign a function for each thread\n",
    "    for i in range(num_threads):\n",
    "        thread = Thread(target=square_numbers)\n",
    "        threads.append(thread)\n",
    "\n",
    "    # start all threads\n",
    "    for thread in threads:\n",
    "        thread.start()\n",
    "\n",
    "    # wait for all threads to finish\n",
    "    # block the main thread until these threads are finished\n",
    "    for thread in threads:\n",
    "        thread.join()"
   ]
  },
  {
   "cell_type": "markdown",
   "metadata": {},
   "source": [
    "## Share data between threads\n",
    "Since threads live in the same memory space, they have access to the same (public) data. Thus, you can for example simply use\n",
    "a global variable to which all threads have read and write access.\n",
    "\n",
    "Task: Create two threads, each thread should access the current database value, modify it (in this case only increase it by 1), and write the new value back into the database value. Each thread should do this operation 10 times."
   ]
  },
  {
   "cell_type": "code",
   "execution_count": 3,
   "metadata": {},
   "outputs": [
    {
     "name": "stdout",
     "output_type": "stream",
     "text": [
      "Start value:  0\n",
      "End value: 1\n",
      "end main\n"
     ]
    }
   ],
   "source": [
    "from threading import Thread\n",
    "import time\n",
    "\n",
    "\n",
    "# all threads can access this global variable\n",
    "database_value = 0\n",
    "\n",
    "def increase():\n",
    "    global database_value # needed to modify the global value\n",
    "    \n",
    "    # get a local copy (simulate data retrieving)\n",
    "    local_copy = database_value\n",
    "        \n",
    "    # simulate some modifying operation\n",
    "    local_copy += 1\n",
    "    time.sleep(0.1)\n",
    "        \n",
    "    # write the calculated new value into the global variable\n",
    "    database_value = local_copy\n",
    "\n",
    "\n",
    "if __name__ == \"__main__\":\n",
    "\n",
    "    print('Start value: ', database_value)\n",
    "\n",
    "    t1 = Thread(target=increase)\n",
    "    t2 = Thread(target=increase)\n",
    "\n",
    "    t1.start()\n",
    "    t2.start()\n",
    "\n",
    "    t1.join()\n",
    "    t2.join()\n",
    "\n",
    "    print('End value:', database_value)\n",
    "\n",
    "    print('end main')"
   ]
  },
 "metadata": {
  "kernelspec": {
   "display_name": "Python [conda env:pythonengineer_env]",
   "language": "python",
   "name": "conda-env-pythonengineer_env-py"
  },
  "language_info": {
   "codemirror_mode": {
    "name": "ipython",
    "version": 3
   },
   "file_extension": ".py",
   "mimetype": "text/x-python",
   "name": "python",
   "nbconvert_exporter": "python",
   "pygments_lexer": "ipython3",
   "version": "3.7.3"
  }
 },
 "nbformat": 4,
 "nbformat_minor": 2
}
