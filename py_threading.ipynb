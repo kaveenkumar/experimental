{
 "cells": [
  {
   "cell_type": "markdown",
   "metadata": {},
   "source": [
    "# Threading in Python\n",
    "In this article we talk about how to use the `threading` module in Python.\n",
    "\n",
    "- How to create and start multiple threads\n",
    "- How to wait for threads to complete\n",
    "- How to share data between threads\n",
    "- How to use `Locks` to prevent race conditions\n",
    "- What is a daemon thread\n",
    "- How to use a `Queue` for thread-safe data/task processing."
   ]
  },
  {
   "cell_type": "markdown",
   "metadata": {},
   "source": [
    "## Create and run threads\n",
    "You create a thread with `threading.Thread()`. It takes two important arguments:\n",
    "    \n",
    "- `target`: a callable object (function) for this thread to be invoked when the thread starts\n",
    "- `args`: the (function) arguments for the target function. This must be a tuple\n",
    "\n",
    "Start a thread with `thread.start()`\n",
    "\n",
    "Call `thread.join()` to tell the program that it should wait for this thread to complete before it continues with the rest of the code."
   ]
  },
  {
   "cell_type": "code",
   "execution_count": 1,
   "metadata": {
    "collapsed": true
   },
   "outputs": [],
   "source": [
    "from threading import Thread\n",
    "\n",
    "def square_numbers():\n",
    "    for i in range(1000):\n",
    "        result = i * i\n",
    "\n",
    "        \n",
    "if __name__ == \"__main__\":        \n",
    "    threads = []\n",
    "    num_threads = 10\n",
    "\n",
    "    # create threads and asign a function for each thread\n",
    "    for i in range(num_threads):\n",
    "        thread = Thread(target=square_numbers)\n",
    "        threads.append(thread)\n",
    "\n",
    "    # start all threads\n",
    "    for thread in threads:\n",
    "        thread.start()\n",
    "\n",
    "    # wait for all threads to finish\n",
    "    # block the main thread until these threads are finished\n",
    "    for thread in threads:\n",
    "        thread.join()"
   ]
  },
  {
   "cell_type": "markdown",
   "metadata": {},
   "source": [
    "## Share data between threads\n",
    "Since threads live in the same memory space, they have access to the same (public) data. Thus, you can for example simply use\n",
    "a global variable to which all threads have read and write access.\n",
    "\n",
    "Task: Create two threads, each thread should access the current database value, modify it (in this case only increase it by 1), and write the new value back into the database value. Each thread should do this operation 10 times."
   ]
  },
  {
   "cell_type": "code",
   "execution_count": 3,
   "metadata": {},
   "outputs": [
    {
     "name": "stdout",
     "output_type": "stream",
     "text": [
      "Start value:  0\n",
      "End value: 1\n",
      "end main\n"
     ]
    }
   ],
   "source": [
    "from threading import Thread\n",
    "import time\n",
    "\n",
    "\n",
    "# all threads can access this global variable\n",
    "database_value = 0\n",
    "\n",
    "def increase():\n",
    "    global database_value # needed to modify the global value\n",
    "    \n",
    "    # get a local copy (simulate data retrieving)\n",
    "    local_copy = database_value\n",
    "        \n",
    "    # simulate some modifying operation\n",
    "    local_copy += 1\n",
    "    time.sleep(0.1)\n",
    "        \n",
    "    # write the calculated new value into the global variable\n",
    "    database_value = local_copy\n",
    "\n",
    "\n",
    "if __name__ == \"__main__\":\n",
    "\n",
    "    print('Start value: ', database_value)\n",
    "\n",
    "    t1 = Thread(target=increase)\n",
    "    t2 = Thread(target=increase)\n",
    "\n",
    "    t1.start()\n",
    "    t2.start()\n",
    "\n",
    "    t1.join()\n",
    "    t2.join()\n",
    "\n",
    "    print('End value:', database_value)\n",
    "\n",
    "    print('end main')"
   ]
  },
  {
   "cell_type": "markdown",
   "metadata": {},
   "source": [
    "## How to use `Locks`\n",
    "Notice that in the above example, the 2 threads should increment the value by 1, so 2 increment operations are performed. But why is the end value 1 and not 2?\n",
    "\n",
    "#### Race condition\n",
    "A race condition happened here. A race condition occurs when two or more threads can access shared data and they try to change it at the same time. Because the thread scheduling algorithm can swap between threads at any time, you don't know the order in which the threads will attempt to access the shared data. In our case, the first thread accesses the `database_value` (0) and stores it in a local copy. It then increments it (`local_copy` is now 1). With our `time.sleep()` function that just simulates some time consuming operations, the programm will swap to the second thread in the meantime. This will also retrieve the current `database_value` (still 0) and increment the `local_copy` to 1. Now both threads have a local copy with value 1, so both will write the 1 into the global `database_value`. This is why the end value is 1 and not 2.\n",
    "\n",
    "#### Avoid race conditions with `Locks`\n",
    "A lock (also known as mutex) is a synchronization mechanism for enforcing limits on access to a resource in an environment where there are many threads of execution. A Lock has two states: **locked** and **unlocked**. \n",
    "If the state is locked, it does not allow other concurrent threads to enter this code section until the state is unlocked again.\n",
    "\n",
    "Two functions are important:\n",
    "- `lock.acquire()` : This will lock the state and block\n",
    "- `lock.release()` : This will unlock the state again.\n",
    "\n",
    "Important: You should always release the block again after it was acquired!\n",
    "\n",
    "In our example the critical code section where database values are retrieved and modified is now locked. This prevents the second thread from modyfing the global data at the same time. Not much has changed in our code. All new changes are commented in the code below."
   ]
  },
  {
   "cell_type": "code",
   "execution_count": 6,
   "metadata": {},
   "outputs": [
    {
     "name": "stdout",
     "output_type": "stream",
     "text": [
      "Start value:  0\n",
      "End value: 2\n",
      "end main\n"
     ]
    }
   ],
   "source": [
    "# import Lock\n",
    "from threading import Thread, Lock\n",
    "import time\n",
    "\n",
    "\n",
    "database_value = 0\n",
    "\n",
    "def increase(lock):\n",
    "    global database_value \n",
    "    \n",
    "    # lock the state\n",
    "    lock.acquire()\n",
    "    \n",
    "    local_copy = database_value\n",
    "    local_copy += 1\n",
    "    time.sleep(0.1)\n",
    "    database_value = local_copy\n",
    "    \n",
    "    # unlock the state\n",
    "    lock.release()\n",
    "\n",
    "\n",
    "if __name__ == \"__main__\":\n",
    "\n",
    "    # create a lock\n",
    "    lock = Lock()\n",
    "    \n",
    "    print('Start value: ', database_value)\n",
    "\n",
    "    # pass the lock to the target function\n",
    "    t1 = Thread(target=increase, args=(lock,)) # notice the comma after lock since args must be a tuple\n",
    "    t2 = Thread(target=increase, args=(lock,))\n",
    "\n",
    "    t1.start()\n",
    "    t2.start()\n",
    "\n",
    "    t1.join()\n",
    "    t2.join()\n",
    "\n",
    "    print('End value:', database_value)\n",
    "\n",
    "    print('end main')"
   ]
  },
  {
   "cell_type": "markdown",
   "metadata": {},
   "source": [
    "#### Use the lock as a context manager\n",
    "After `lock.acquire()` you should never forget to call `lock.release()` to unblock the code. You can also use a lock as a context manager, wich will safely lock and unlock your code. It is recommended to use a lock this way:"
   ]
  },
  {
   "cell_type": "code",
   "execution_count": 8,
   "metadata": {
    "collapsed": true
   },
   "outputs": [],
   "source": [
    "def increase(lock):\n",
    "    global database_value \n",
    "    \n",
    "    with lock: \n",
    "        local_copy = database_value\n",
    "        local_copy += 1\n",
    "        time.sleep(0.1)\n",
    "        database_value = local_copy"
   ]
  },
 "metadata": {
  "kernelspec": {
   "display_name": "Python [conda env:pythonengineer_env]",
   "language": "python",
   "name": "conda-env-pythonengineer_env-py"
  },
  "language_info": {
   "codemirror_mode": {
    "name": "ipython",
    "version": 3
   },
   "file_extension": ".py",
   "mimetype": "text/x-python",
   "name": "python",
   "nbconvert_exporter": "python",
   "pygments_lexer": "ipython3",
   "version": "3.7.3"
  }
 },
 "nbformat": 4,
 "nbformat_minor": 2
}
