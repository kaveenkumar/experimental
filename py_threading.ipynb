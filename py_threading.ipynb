{
 "cells": [
  {
   "cell_type": "markdown",
   "metadata": {},
   "source": [
    "# Threading in Python\n",
    "In this article we talk about how to use the `threading` module in Python.\n",
    "\n",
    "- How to create and start multiple threads\n",
    "- How to wait for threads to complete\n",
    "- How to share data between threads\n",
    "- How to use `Locks` to prevent race conditions\n",
    "- What is a daemon thread\n",
    "- How to use a `Queue` for thread-safe data/task processing."
   ]
  },
 "metadata": {
  "kernelspec": {
   "display_name": "Python [conda env:pythonengineer_env]",
   "language": "python",
   "name": "conda-env-pythonengineer_env-py"
  },
  "language_info": {
   "codemirror_mode": {
    "name": "ipython",
    "version": 3
   },
   "file_extension": ".py",
   "mimetype": "text/x-python",
   "name": "python",
   "nbconvert_exporter": "python",
   "pygments_lexer": "ipython3",
   "version": "3.7.3"
  }
 },
 "nbformat": 4,
 "nbformat_minor": 2
}
