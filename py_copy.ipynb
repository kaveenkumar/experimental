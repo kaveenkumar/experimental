{
 "cells": [
  {
   "cell_type": "markdown",
   "metadata": {},
   "source": [
    "# Shallow vs deep copying\n",
    "In Python, assignment statements (`obj_b = obj_a`) do not create real copies. It only creates a new variable with the same reference. So when you want to make actual copies of mutable objects (lists, dicts) and want to modify the copy without affecting the original, you have to be careful.  \n",
    "For 'real' copies we can use the `copy` module. However, for compound/nested objects (e.g. nested lists or dicts) and custom objects there is an important difference between **shallow** and **deep** copying:\n",
    "- shallow copies: Only *one level deep*. It creates a new collection object and populates it with references to the nested objects. This means modyfing a nested object in the copy deeper than one level affects the original.\n",
    "- deep copies: A *full independent clone*. It creates a new collection object and then recursively populates it with copies of the nested objects found in the original."
   ]
  },
 "metadata": {
  "kernelspec": {
   "display_name": "Python [conda env:pythonengineer_env]",
   "language": "python",
   "name": "conda-env-pythonengineer_env-py"
  },
  "language_info": {
   "codemirror_mode": {
    "name": "ipython",
    "version": 3
   },
   "file_extension": ".py",
   "mimetype": "text/x-python",
   "name": "python",
   "nbconvert_exporter": "python",
   "pygments_lexer": "ipython3",
   "version": "3.7.3"
  }
 },
 "nbformat": 4,
 "nbformat_minor": 2
}
