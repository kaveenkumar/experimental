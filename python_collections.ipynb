{
 "cells": [
  {
   "cell_type": "markdown",
   "metadata": {},
   "source": [
    "# Collections\n",
    "The collections module in Python implements specialized container datatypes providing alternatives to Python’s general purpose built-in containers\n",
    "The following tools exist:  \n",
    "- namedtuple : factory function for creating tuple subclasses with named fields\n",
    "- Counter : dict subclass for counting hashable objects \n",
    "- deque : list-like container with fast appends and pops on either end\n",
    "\n",
    "In Python 3 some more modules exist (ChainMap, UserDict, UserList, UserString). See https://docs.python.org/3/library/collections.html for further references."
   ]
  },
  {
   "cell_type": "markdown",
   "metadata": {},
   "source": [
    "## Counter\n",
    "A counter is a container that stores elements as dictionary keys, and their counts are stored as dictionary values."
   ]
  },
  {
   "cell_type": "code",
   "execution_count": 3,
   "metadata": {},
   "outputs": [
    {
     "name": "stdout",
     "output_type": "stream",
     "text": [
      "Counter({'a': 5, 'b': 4, 'c': 3, 'd': 2, 'e': 1})\n",
      "dict_items([('a', 5), ('b', 4), ('c', 3), ('d', 2), ('e', 1)])\n",
      "dict_keys(['a', 'b', 'c', 'd', 'e'])\n",
      "dict_values([5, 4, 3, 2, 1])\n",
      "Counter({1: 4, 2: 3, 0: 2, 3: 2, 4: 1})\n",
      "[(1, 4)]\n",
      "[0, 0, 1, 1, 1, 1, 2, 2, 2, 3, 3, 4]\n"
     ]
    }
   ],
   "source": [
    "from collections import Counter\n",
    "a = \"aaaaabbbbcccdde\"\n",
    "my_counter = Counter(a)\n",
    "print(my_counter)\n",
    "\n",
    "print(my_counter.items())\n",
    "print(my_counter.keys())\n",
    "print(my_counter.values())\n",
    "\n",
    "my_list = [0, 1, 0, 1, 2, 1, 1, 3, 2, 3, 2, 4]\n",
    "my_counter = Counter(my_list)\n",
    "print(my_counter)\n",
    "\n",
    "# most common items\n",
    "print(my_counter.most_common(1))\n",
    "\n",
    "# Return an iterator over elements repeating each as many times as its count. \n",
    "# Elements are returned in arbitrary order.\n",
    "print(list(my_counter.elements()))"
   ]
  },
{
   "cell_type": "markdown",
   "metadata": {},
   "source": [
    "## namedtuple\n",
    "namedtuples are easy to create, lightweight object types. They assign meaning to each position in a tuple and allow for more readable, self-documenting code. They can be used wherever regular tuples are used, and they add the ability to access fields by name instead of position index."
   ]
  },
  {
   "cell_type": "code",
   "execution_count": 19,
   "metadata": {},
   "outputs": [
    {
     "name": "stdout",
     "output_type": "stream",
     "text": [
      "Point(x=1, y=-4)\n",
      "('x', 'y')\n",
      "<class '__main__.Point'>\n",
      "1 -4\n",
      "Tom 25\n"
     ]
    }
   ],
   "source": [
    "from collections import namedtuple\n",
    "# create a namedtuple with its class name as string and its fields as string\n",
    "# fields have to be separated by comma or space in the given string\n",
    "Point = namedtuple('Point','x, y')\n",
    "pt = Point(1, -4)\n",
    "print(pt)\n",
    "print(pt._fields)\n",
    "print(type(pt))\n",
    "print(pt.x, pt.y)\n",
    "\n",
    "Person = namedtuple('Person','name, age')\n",
    "friend = Person(name='Tom', age=25)\n",
    "print(friend.name, friend.age)"
   ]
  },
  {
   "cell_type": "markdown",
   "metadata": {},
   "source": [
    "## deque\n",
    "A deque is a double-ended queue. It can be used to add or remove elements from both ends. Deques support thread safe, memory efficient appends and pops from either side of the deque with approximately the same __O(1)__ performance in either direction. The more commonly used stacks and queues are degenerate forms of deques, where the inputs and outputs are restricted to a single end."
   ]
  },
  {
   "cell_type": "code",
   "execution_count": 67,
   "metadata": {},
   "outputs": [
    {
     "name": "stdout",
     "output_type": "stream",
     "text": [
      "deque(['a', 'b'])\n",
      "deque(['c', 'a', 'b'])\n",
      "b\n",
      "deque(['c', 'a'])\n",
      "c\n",
      "deque(['a'])\n",
      "deque([])\n",
      "deque(['j', 'i', 'h', 'a', 'b', 'c', 'd', 'e', 'f', 'g'])\n",
      "1\n",
      "deque(['g', 'j', 'i', 'h', 'a', 'b', 'c', 'd', 'e', 'f'])\n",
      "deque(['i', 'h', 'a', 'b', 'c', 'd', 'e', 'f', 'g', 'j'])\n"
     ]
    }
   ],
   "source": [
    "from collections import deque\n",
    "d = deque()\n",
    "\n",
    "# append() : add elements to the right end \n",
    "d.append('a')\n",
    "d.append('b')\n",
    "print(d)\n",
    "\n",
    "# appendleft() : add elements to the left end \n",
    "d.appendleft('c')\n",
    "print(d)\n",
    "\n",
    "# pop() : return and remove elements from the right\n",
    "print(d.pop())\n",
    "print(d)\n",
    "\n",
    "# popleft() : return and remove elements from the left\n",
    "print(d.popleft())\n",
    "print(d)\n",
    "\n",
    "# clear() : remove all elements\n",
    "d.clear()\n",
    "print(d)\n",
    "\n",
    "d = deque(['a', 'b', 'c', 'd'])\n",
    "\n",
    "# extend at right or left side\n",
    "d.extend(['e', 'f', 'g'])\n",
    "d.extendleft(['h', 'i', 'j']) # note that 'j' is now at the left most position\n",
    "print(d)\n",
    "\n",
    "# count(x) : returns the number of found elements\n",
    "print(d.count('h'))\n",
    "\n",
    "# rotate 1 positions to the right\n",
    "d.rotate(1)\n",
    "print(d)\n",
    "\n",
    "# rotate 2 positions to the left\n",
    "d.rotate(-2)\n",
    "print(d)"
   ]
  }
 ],
 "metadata": {
  "kernelspec": {
   "display_name": "Python [conda env:pythonengineer_env]",
   "language": "python",
   "name": "conda-env-pythonengineer_env-py"
  },
  "language_info": {
   "codemirror_mode": {
    "name": "ipython",
    "version": 3
   },
   "file_extension": ".py",
   "mimetype": "text/x-python",
   "name": "python",
   "nbconvert_exporter": "python",
   "pygments_lexer": "ipython3",
   "version": "3.7.3"
  }
 },
 "nbformat": 4,
 "nbformat_minor": 2
}
