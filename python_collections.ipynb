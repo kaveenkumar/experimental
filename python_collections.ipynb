{
 "cells": [
  {
   "cell_type": "markdown",
   "metadata": {},
   "source": [
    "# Collections\n",
    "The collections module in Python implements specialized container datatypes providing alternatives to Python’s general purpose built-in containers\n",
    "The following tools exist:  \n",
    "- namedtuple : factory function for creating tuple subclasses with named fields\n",
    "- Counter : dict subclass for counting hashable objects \n",
    "- deque : list-like container with fast appends and pops on either end\n",
    "\n",
    "In Python 3 some more modules exist (ChainMap, UserDict, UserList, UserString). See https://docs.python.org/3/library/collections.html for further references."
   ]
  },
