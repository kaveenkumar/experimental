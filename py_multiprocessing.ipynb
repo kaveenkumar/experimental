{
 "cells": [
  {
   "cell_type": "markdown",
   "metadata": {},
   "source": [
    "# Multiprocessing in Python\n",
    "In this article we talk about how to use the `multiprocessing` module in Python.\n",
    "\n",
    "- How to create and start multiple processes\n",
    "- How to wait for processes to complete\n",
    "- How to share data between processes\n",
    "- How to use `Locks` to prevent race conditions\n",
    "- How to use a `Queue` for process-safe data/task processing.\n",
    "- How to use a `Pool` to manage multiple worker processes"
   ]
  },
  {
   "cell_type": "markdown",
   "metadata": {},
   "source": [
    "## Create and run processes\n",
    "You create a process with `multiprocessing.Process()`. It takes two important arguments:\n",
    "    \n",
    "- `target`: a callable object (function) for this process to be invoked when the process starts\n",
    "- `args`: the (function) arguments for the target function. This must be a tuple\n",
    "\n",
    "Start a process with `process.start()`\n",
    "\n",
    "Call `process.join()` to tell the program that it should wait for this process to complete before it continues with the rest of the code."
   ]
  },
  {
   "cell_type": "code",
   "execution_count": 1,
   "metadata": {
    "collapsed": true
   },
   "outputs": [],
   "source": [
    "from multiprocessing import Process\n",
    "import os\n",
    "\n",
    "def square_numbers():\n",
    "    for i in range(1000):\n",
    "        result = i * i\n",
    "\n",
    "        \n",
    "if __name__ == \"__main__\":        \n",
    "    processes = []\n",
    "    num_processes = os.cpu_count()\n",
    "    # number of CPUs on the machine. Usually a good choise for the number of processes\n",
    "\n",
    "    # create processes and asign a function for each process\n",
    "    for i in range(num_processes):\n",
    "        process = Process(target=square_numbers)\n",
    "        processes.append(process)\n",
    "\n",
    "    # start all processes\n",
    "    for process in processes:\n",
    "        process.start()\n",
    "\n",
    "    # wait for all processes to finish\n",
    "    # block the main programm until these processes are finished\n",
    "    for process in processes:\n",
    "        process.join()"
   ]
  },
 "metadata": {
  "kernelspec": {
   "display_name": "Python [conda env:pythonengineer_env]",
   "language": "python",
   "name": "conda-env-pythonengineer_env-py"
  },
  "language_info": {
   "codemirror_mode": {
    "name": "ipython",
    "version": 3
   },
   "file_extension": ".py",
   "mimetype": "text/x-python",
   "name": "python",
   "nbconvert_exporter": "python",
   "pygments_lexer": "ipython3",
   "version": "3.7.3"
  }
 },
 "nbformat": 4,
 "nbformat_minor": 2
}
