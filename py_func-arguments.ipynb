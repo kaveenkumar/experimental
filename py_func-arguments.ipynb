{
 "cells": [
  {
   "cell_type": "markdown",
   "metadata": {},
   "source": [
    "# Function arguments\n",
    "In this article we will talk about function parameters and function arguments in detail. We will learn:\n",
    "\n",
    "- The difference between arguments and parameters\n",
    "- Positional and keyword arguments\n",
    "- Default arguments\n",
    "- Variable-length arguments (`*args` and `**kwargs`)\n",
    "- Container unpacking into function arguments\n",
    "- Local vs. global arguments\n",
    "- Parameter passing (by value or by reference?)"
   ]
  },
  {
   "cell_type": "markdown",
   "metadata": {},
   "source": [
    "## Arguments and parameters\n",
    "- Parameters are the variables that are defined or used inside parentheses while defining a function\n",
    "- Arguments are the value passed for these parameters while calling a function"
   ]
  },
  {
   "cell_type": "code",
   "execution_count": 1,
   "metadata": {},
   "outputs": [
    {
     "name": "stdout",
     "output_type": "stream",
     "text": [
      "Alex\n"
     ]
    }
   ],
   "source": [
    "def print_name(name): # name is the parameter\n",
    "    print(name)\n",
    "\n",
    "print_name('Alex') # 'Alex' is the argument"
   ]
  },
  {
   "cell_type": "markdown",
   "metadata": {},
   "source": [
    "## Positional and keyword arguments\n",
    "We can pass arguments as positional or keyword arguments. Some benefits of keyword arguments can be:\n",
    "- We can call arguments by their names to make it more clear what they represent\n",
    "- We can rearrange arguments in a way that makes them most readable"
   ]
  },
  {
   "cell_type": "code",
   "execution_count": 5,
   "metadata": {},
   "outputs": [
    {
     "name": "stdout",
     "output_type": "stream",
     "text": [
      "1 2 3\n",
      "1 2 3\n",
      "1 2 3\n",
      "1 2 3\n"
     ]
    }
   ],
   "source": [
    "def foo(a, b, c):\n",
    "    print(a, b, c)\n",
    "    \n",
    "# positional arguments\n",
    "foo(1, 2, 3)\n",
    "\n",
    "# keyword arguments\n",
    "foo(a=1, b=2, c=3)\n",
    "foo(c=3, b=2, a=1) # Note that the order is not important here\n",
    "\n",
    "# mix of both\n",
    "foo(1, b=2, c=3)\n",
    "\n",
    "# This is not allowed:\n",
    "# foo(1, b=2, 3) # positional argument after keyword argument\n",
    "# foo(1, b=2, a=3) # multiple values for argument 'a'"
   ]
  },
 "metadata": {
  "kernelspec": {
   "display_name": "Python [conda env:pythonengineer_env]",
   "language": "python",
   "name": "conda-env-pythonengineer_env-py"
  },
  "language_info": {
   "codemirror_mode": {
    "name": "ipython",
    "version": 3
   },
   "file_extension": ".py",
   "mimetype": "text/x-python",
   "name": "python",
   "nbconvert_exporter": "python",
   "pygments_lexer": "ipython3",
   "version": "3.7.3"
  }
 },
 "nbformat": 4,
 "nbformat_minor": 2
}
