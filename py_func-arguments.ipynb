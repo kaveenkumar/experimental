{
 "cells": [
  {
   "cell_type": "markdown",
   "metadata": {},
   "source": [
    "# Function arguments\n",
    "In this article we will talk about function parameters and function arguments in detail. We will learn:\n",
    "\n",
    "- The difference between arguments and parameters\n",
    "- Positional and keyword arguments\n",
    "- Default arguments\n",
    "- Variable-length arguments (`*args` and `**kwargs`)\n",
    "- Container unpacking into function arguments\n",
    "- Local vs. global arguments\n",
    "- Parameter passing (by value or by reference?)"
   ]
  },
 "metadata": {
  "kernelspec": {
   "display_name": "Python [conda env:pythonengineer_env]",
   "language": "python",
   "name": "conda-env-pythonengineer_env-py"
  },
  "language_info": {
   "codemirror_mode": {
    "name": "ipython",
    "version": 3
   },
   "file_extension": ".py",
   "mimetype": "text/x-python",
   "name": "python",
   "nbconvert_exporter": "python",
   "pygments_lexer": "ipython3",
   "version": "3.7.3"
  }
 },
 "nbformat": 4,
 "nbformat_minor": 2
}
