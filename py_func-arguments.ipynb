{
 "cells": [
  {
   "cell_type": "markdown",
   "metadata": {},
   "source": [
    "# Function arguments\n",
    "In this article we will talk about function parameters and function arguments in detail. We will learn:\n",
    "\n",
    "- The difference between arguments and parameters\n",
    "- Positional and keyword arguments\n",
    "- Default arguments\n",
    "- Variable-length arguments (`*args` and `**kwargs`)\n",
    "- Container unpacking into function arguments\n",
    "- Local vs. global arguments\n",
    "- Parameter passing (by value or by reference?)"
   ]
  },
  {
   "cell_type": "markdown",
   "metadata": {},
   "source": [
    "## Arguments and parameters\n",
    "- Parameters are the variables that are defined or used inside parentheses while defining a function\n",
    "- Arguments are the value passed for these parameters while calling a function"
   ]
  },
  {
   "cell_type": "code",
   "execution_count": 1,
   "metadata": {},
   "outputs": [
    {
     "name": "stdout",
     "output_type": "stream",
     "text": [
      "Alex\n"
     ]
    }
   ],
   "source": [
    "def print_name(name): # name is the parameter\n",
    "    print(name)\n",
    "\n",
    "print_name('Alex') # 'Alex' is the argument"
   ]
  },
  }
   ],
   "source": [
    "# mutable objects -> change\n",
    "def foo(a_list):\n",
    "    a_list.append(4)\n",
    "    \n",
    "my_list = [1, 2, 3]\n",
    "print('my_list before foo():', my_list)\n",
    "foo(my_list)\n",
    "print('my_list after foo():', my_list)"
   ]
  },
  {
   "cell_type": "code",
   "execution_count": 48,
   "metadata": {},
   "outputs": [
    {
     "name": "stdout",
     "output_type": "stream",
     "text": [
      "my_list before foo(): [1, 2, 'Max']\n",
      "my_list after foo(): [-100, 2, 'Paul']\n"
     ]
    }
   ],
   "source": [
    "# immutable objects within a mutable object -> change\n",
    "def foo(a_list):\n",
    "    a_list[0] = -100\n",
    "    a_list[2] = \"Paul\"\n",
    "    \n",
    "my_list = [1, 2, \"Max\"]\n",
    "print('my_list before foo():', my_list)\n",
    "foo(my_list)\n",
    "print('my_list after foo():', my_list)"
   ]
  },
  {
   "cell_type": "code",
   "execution_count": 53,
   "metadata": {},
   "outputs": [
    {
     "name": "stdout",
     "output_type": "stream",
     "text": [
      "my_list before foo(): [1, 2, 3]\n",
      "my_list after foo(): [1, 2, 3]\n"
     ]
    }
   ],
   "source": [
    "# Rebind a mutable reference -> no change\n",
    "def foo(a_list):\n",
    "    a_list = [50, 60, 70] # a_list is now a new local variable within the function\n",
    "    a_list.append(50)\n",
    "    \n",
    "my_list = [1, 2, 3]\n",
    "print('my_list before foo():', my_list)\n",
    "foo(my_list)\n",
    "print('my_list after foo():', my_list)"
   ]
  },
  {
   "cell_type": "markdown",
   "metadata": {},
   "source": [
    "Be careful with `+=` and `=` operations for mutable types. The first operation has an effect on the passed argument while the latter has not:"
   ]
  },
  {
   "cell_type": "code",
   "execution_count": 52,
   "metadata": {},
   "outputs": [
    {
     "name": "stdout",
     "output_type": "stream",
     "text": [
      "my_list before foo(): [1, 2, 3]\n",
      "my_list after foo(): [1, 2, 3, 4, 5]\n",
      "my_list before bar(): [1, 2, 3]\n",
      "my_list after bar(): [1, 2, 3]\n"
     ]
    }
   ],
   "source": [
    "# another example with rebinding references:\n",
    "def foo(a_list):\n",
    "    a_list += [4, 5] # this chanches the outer variable\n",
    "    \n",
    "def bar(a_list):\n",
    "    a_list = a_list + [4, 5] # this rebinds the reference to a new local variable\n",
    "\n",
    "my_list = [1, 2, 3]\n",
    "print('my_list before foo():', my_list)\n",
    "foo(my_list)\n",
    "print('my_list after foo():', my_list)\n",
    "\n",
    "my_list = [1, 2, 3]\n",
    "print('my_list before bar():', my_list)\n",
    "bar(my_list)\n",
    "print('my_list after bar():', my_list)"
   ]
  }
 ],
 "metadata": {
  "kernelspec": {
   "display_name": "Python [conda env:pythonengineer_env]",
   "language": "python",
   "name": "conda-env-pythonengineer_env-py"
  },
  "language_info": {
   "codemirror_mode": {
    "name": "ipython",
    "version": 3
   },
   "file_extension": ".py",
   "mimetype": "text/x-python",
   "name": "python",
   "nbconvert_exporter": "python",
   "pygments_lexer": "ipython3",
   "version": "3.7.3"
  }
 },
 "nbformat": 4,
 "nbformat_minor": 2
}
