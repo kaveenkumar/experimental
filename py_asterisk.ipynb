{
 "cells": [
  {
   "cell_type": "markdown",
   "metadata": {},
   "source": [
    "# The Asterisk (`*`) in Python and its use cases\n",
    "The asterisk sign (`*`) can be used for different cases in Python:\n",
    "- Multiplication and power operations\n",
    "- Creation of list, tuple, or string with repeated elements\n",
    "- `*args` , `**kwargs` , and keyword-only parameters\n",
    "- Unpacking lists/tuples/dictionaries for function arguments\n",
    "- Unpacking containers\n",
    "- Merging containers into list / Merge dictionaries"
   ]
  },
  {
   "cell_type": "markdown",
   "metadata": {},
   "source": [
    "## Multiplication and power operations"
   ]
  },
  {
   "cell_type": "code",
   "execution_count": 46,
   "metadata": {},
   "outputs": [
    {
     "name": "stdout",
     "output_type": "stream",
     "text": [
      "35\n",
      "16\n"
     ]
    }
   ],
   "source": [
    "# multiplication\n",
    "result = 7 * 5\n",
    "print(result)\n",
    "\n",
    "# power operation\n",
    "result = 2 ** 4\n",
    "print(result)"
   ]
  },
  {
   "cell_type": "markdown",
   "metadata": {},
   "source": [
    "## Creation of list, tuple, or string with repeated elements"
   ]
  },
  {
   "cell_type": "code",
   "execution_count": 47,
   "metadata": {},
   "outputs": [
    {
     "name": "stdout",
     "output_type": "stream",
     "text": [
      "[0, 0, 0, 0, 0, 0, 0, 0, 0, 0]\n",
      "[1, 2, 1, 2, 1, 2, 1, 2, 1, 2]\n",
      "(0, 0, 0, 0, 0, 0, 0, 0, 0, 0)\n",
      "(1, 2, 1, 2, 1, 2, 1, 2, 1, 2)\n",
      "AAAAAAAAAA\n",
      "ABABABABAB\n"
     ]
    }
   ],
   "source": [
    "# list\n",
    "zeros = [0] * 10\n",
    "onetwos = [1, 2] * 5\n",
    "print(zeros)\n",
    "print(onetwos)\n",
    "\n",
    "# tuple\n",
    "zeros = (0,) * 10\n",
    "onetwos = (1, 2) * 5\n",
    "print(zeros)\n",
    "print(onetwos)\n",
    "\n",
    "# string\n",
    "A_string = \"A\" * 10\n",
    "AB_string = \"AB\" * 5\n",
    "print(A_string)\n",
    "print(AB_string)"
   ]
  },
  {
   "cell_type": "markdown",
   "metadata": {},
   "source": [
    "## `*args` , `**kwargs` , and keyword-only arguments\n",
    "- Use `*args` for variable-length arguments\n",
    "- Use `**kwargs` for variable-length keyword arguments\n",
    "- Use `*,` followed by more function parameters to enforce keyword-only arguments"
   ]
  },
  {
   "cell_type": "code",
   "execution_count": 48,
   "metadata": {},
   "outputs": [
    {
     "name": "stdout",
     "output_type": "stream",
     "text": [
      "Hey\n",
      "3\n",
      "[0, 1, 2]\n",
      "name Alex\n",
      "age 8\n",
      "Michael\n",
      "5\n"
     ]
    }
   ],
   "source": [
    "def my_function(*args, **kwargs):\n",
    "    for arg in args:\n",
    "        print(arg)\n",
    "    for key in kwargs:\n",
    "        print(key, kwargs[key])\n",
    "        \n",
    "my_function(\"Hey\", 3, [0, 1, 2], name=\"Alex\", age=8)\n",
    "\n",
    "# Parameters after '*' or '*identifier' are keyword-only parameters and may only be passed using keyword arguments.\n",
    "def my_function2(name, *, age):\n",
    "    print(name)\n",
    "    print(age)\n",
    "\n",
    "# my_function2(\"Michael\", 5) --> this would raise a TypeError\n",
    "my_function2(\"Michael\", age=5)"
   ]
  },
 "metadata": {
  "kernelspec": {
   "display_name": "Python [conda env:pythonengineer_env]",
   "language": "python",
   "name": "conda-env-pythonengineer_env-py"
  },
  "language_info": {
   "codemirror_mode": {
    "name": "ipython",
    "version": 3
   },
   "file_extension": ".py",
   "mimetype": "text/x-python",
   "name": "python",
   "nbconvert_exporter": "python",
   "pygments_lexer": "ipython3",
   "version": "3.7.3"
  }
 },
 "nbformat": 4,
 "nbformat_minor": 2
}
