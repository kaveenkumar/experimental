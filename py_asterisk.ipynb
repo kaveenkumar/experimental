{
 "cells": [
  {
   "cell_type": "markdown",
   "metadata": {},
   "source": [
    "# The Asterisk (`*`) in Python and its use cases\n",
    "The asterisk sign (`*`) can be used for different cases in Python:\n",
    "- Multiplication and power operations\n",
    "- Creation of list, tuple, or string with repeated elements\n",
    "- `*args` , `**kwargs` , and keyword-only parameters\n",
    "- Unpacking lists/tuples/dictionaries for function arguments\n",
    "- Unpacking containers\n",
    "- Merging containers into list / Merge dictionaries"
   ]
  },
 "metadata": {
  "kernelspec": {
   "display_name": "Python [conda env:pythonengineer_env]",
   "language": "python",
   "name": "conda-env-pythonengineer_env-py"
  },
  "language_info": {
   "codemirror_mode": {
    "name": "ipython",
    "version": 3
   },
   "file_extension": ".py",
   "mimetype": "text/x-python",
   "name": "python",
   "nbconvert_exporter": "python",
   "pygments_lexer": "ipython3",
   "version": "3.7.3"
  }
 },
 "nbformat": 4,
 "nbformat_minor": 2
}
