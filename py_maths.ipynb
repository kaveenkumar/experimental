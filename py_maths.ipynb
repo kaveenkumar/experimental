{
 "cells": [
  {
   "cell_type": "markdown",
   "metadata": {},
   "source": [
    "<h2 align='center' style='color:purple'>Math and statistics for data science</h2>"
   ]
  },
  {
   "cell_type": "code",
   "execution_count": 79,
   "metadata": {},
   "outputs": [],
   "source": [
    "import pandas as pd\n",
    "import seaborn as sn"
   ]
  },
  {
   "cell_type": "markdown",
   "metadata": {},
   "source": [
    "We are going to use heights dataset from kaggle.com. Dataset has heights and weights \n",
    "both but I have removed weights to make it simple\n",
    "\n",
    "\n",
    "https://www.kaggle.com/mustafaali96/weight-height"
   ]
  },
  {
   "cell_type": "code",
   "execution_count": 80,
   "metadata": {
    "scrolled": true
   },
   "outputs": [
    {
     "data": {
      "text/html": [
       "<div>\n",
       "<style scoped>\n",
       "    .dataframe tbody tr th:only-of-type {\n",
       "        vertical-align: middle;\n",
       "    }\n",
       "\n",
       "    .dataframe tbody tr th {\n",
       "        vertical-align: top;\n",
       "    }\n",
       "\n",
       "    .dataframe thead th {\n",
       "        text-align: right;\n",
       "    }\n",
       "</style>\n",
       "<table border=\"1\" class=\"dataframe\">\n",
       "  <thead>\n",
       "    <tr style=\"text-align: right;\">\n",
       "      <th></th>\n",
       "      <th>gender</th>\n",
       "      <th>height</th>\n",
       "    </tr>\n",
       "  </thead>\n",
       "  <tbody>\n",
       "    <tr>\n",
       "      <th>0</th>\n",
       "      <td>Male</td>\n",
       "      <td>73.847017</td>\n",
       "    </tr>\n",
       "    <tr>\n",
       "      <th>1</th>\n",
       "      <td>Male</td>\n",
       "      <td>68.781904</td>\n",
       "    </tr>\n",
       "    <tr>\n",
       "      <th>2</th>\n",
       "      <td>Male</td>\n",
       "      <td>74.110105</td>\n",
       "    </tr>\n",
       "    <tr>\n",
       "      <th>3</th>\n",
       "      <td>Male</td>\n",
       "      <td>71.730978</td>\n",
       "    </tr>\n",
       "    <tr>\n",
       "      <th>4</th>\n",
       "      <td>Male</td>\n",
       "      <td>69.881796</td>\n",
       "    </tr>\n",
       "  </tbody>\n",
       "</table>\n",
       "</div>"
      ],
      "text/plain": [
       "  gender     height\n",
       "0   Male  73.847017\n",
       "1   Male  68.781904\n",
       "2   Male  74.110105\n",
       "3   Male  71.730978\n",
       "4   Male  69.881796"
      ]
     },
     "execution_count": 80,
     "metadata": {},
     "output_type": "execute_result"
    }
   ],
   "source": [
    "df = pd.read_csv(\"heights.csv\")\n",
    "df.head()"
   ]
  },
  {
   "cell_type": "markdown",
   "metadata": {},
   "source": [
    "**(1) Outlier detection and removal using Standard Deviation**"
   ]
  },
  {
   "cell_type": "code",
   "execution_count": 81,
   "metadata": {
    "scrolled": false
   },
   "outputs": [
    {
     "data": {
      "text/plain": [
       "count    10000.000000\n",
       "mean        66.367560\n",
       "std          3.847528\n",
       "min         54.263133\n",
       "25%         63.505620\n",
       "50%         66.318070\n",
       "75%         69.174262\n",
       "max         78.998742\n",
       "Name: height, dtype: float64"
      ]
     },
     "execution_count": 81,
     "metadata": {},
     "output_type": "execute_result"
    }
   ],
   "source": [
    "df.height.describe()"
   ]
  },
  {
   "cell_type": "code",
   "execution_count": 82,
   "metadata": {
    "scrolled": true
   },
   "outputs": [
    {
     "data": {
      "text/plain": [
       "<AxesSubplot:xlabel='height', ylabel='Count'>"
      ]
     },
     "execution_count": 82,
     "metadata": {},
     "output_type": "execute_result"
    },
    {
     "data": {
      "image/png": "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\n",
      "text/plain": [
       "<Figure size 432x288 with 1 Axes>"
      ]
     },
     "metadata": {
      "needs_background": "light"
     },
     "output_type": "display_data"
    }
   ],
   "source": [
    "sn.histplot(df.height, kde=True)"
   ]
  },
  {
   "cell_type": "code",
   "execution_count": 83,
   "metadata": {},
   "outputs": [
    {
     "data": {
      "text/plain": [
       "66.367559754866"
      ]
     },
     "execution_count": 83,
     "metadata": {},
     "output_type": "execute_result"
    }
   ],
   "source": [
    "mean = df.height.mean()\n",
    "mean"
   ]
  },
  {
   "cell_type": "code",
   "execution_count": 84,
   "metadata": {},
   "outputs": [
    {
     "data": {
      "text/plain": [
       "3.847528120795573"
      ]
     },
     "execution_count": 84,
     "metadata": {},
     "output_type": "execute_result"
    }
   ],
   "source": [
    "std_deviation = df.height.std()\n",
    "std_deviation"
   ]
  },
  {
   "cell_type": "code",
   "execution_count": 85,
   "metadata": {},
   "outputs": [
    {
     "data": {
      "text/plain": [
       "54.824975392479274"
      ]
     },
     "execution_count": 85,
     "metadata": {},
     "output_type": "execute_result"
    }
   ],
   "source": [
    "mean-3*std_deviation"
   ]
  },
  {
   "cell_type": "code",
   "execution_count": 86,
   "metadata": {},
   "outputs": [
    {
     "data": {
      "text/plain": [
       "77.91014411725271"
      ]
     },
     "execution_count": 86,
     "metadata": {},
     "output_type": "execute_result"
    }
   ],
   "source": [
    "mean+3*std_deviation"
   ]
  },
  {
   "cell_type": "code",
   "execution_count": 88,
   "metadata": {},
   "outputs": [
    {
     "data": {
      "text/html": [
       "<div>\n",
       "<style scoped>\n",
       "    .dataframe tbody tr th:only-of-type {\n",
       "        vertical-align: middle;\n",
       "    }\n",
       "\n",
       "    .dataframe tbody tr th {\n",
       "        vertical-align: top;\n",
       "    }\n",
       "\n",
       "    .dataframe thead th {\n",
       "        text-align: right;\n",
       "    }\n",
       "</style>\n",
       "<table border=\"1\" class=\"dataframe\">\n",
       "  <thead>\n",
       "    <tr style=\"text-align: right;\">\n",
       "      <th></th>\n",
       "      <th>gender</th>\n",
       "      <th>height</th>\n",
       "    </tr>\n",
       "  </thead>\n",
       "  <tbody>\n",
       "    <tr>\n",
       "      <th>994</th>\n",
       "      <td>Male</td>\n",
       "      <td>78.095867</td>\n",
       "    </tr>\n",
       "    <tr>\n",
       "      <th>1317</th>\n",
       "      <td>Male</td>\n",
       "      <td>78.462053</td>\n",
       "    </tr>\n",
       "    <tr>\n",
       "      <th>2014</th>\n",
       "      <td>Male</td>\n",
       "      <td>78.998742</td>\n",
       "    </tr>\n",
       "    <tr>\n",
       "      <th>3285</th>\n",
       "      <td>Male</td>\n",
       "      <td>78.528210</td>\n",
       "    </tr>\n",
       "    <tr>\n",
       "      <th>3757</th>\n",
       "      <td>Male</td>\n",
       "      <td>78.621374</td>\n",
       "    </tr>\n",
       "    <tr>\n",
       "      <th>6624</th>\n",
       "      <td>Female</td>\n",
       "      <td>54.616858</td>\n",
       "    </tr>\n",
       "    <tr>\n",
       "      <th>9285</th>\n",
       "      <td>Female</td>\n",
       "      <td>54.263133</td>\n",
       "    </tr>\n",
       "  </tbody>\n",
       "</table>\n",
       "</div>"
      ],
      "text/plain": [
       "      gender     height\n",
       "994     Male  78.095867\n",
       "1317    Male  78.462053\n",
       "2014    Male  78.998742\n",
       "3285    Male  78.528210\n",
       "3757    Male  78.621374\n",
       "6624  Female  54.616858\n",
       "9285  Female  54.263133"
      ]
     },
     "execution_count": 88,
     "metadata": {},
     "output_type": "execute_result"
    }
   ],
   "source": [
    "df[(df.height < 54.82) | (df.height > 77.91)]"
   ]
  },
  {
   "cell_type": "code",
   "execution_count": 90,
   "metadata": {},
   "outputs": [
    {
     "data": {
      "text/plain": [
       "(9993, 2)"
      ]
     },
     "execution_count": 90,
     "metadata": {},
     "output_type": "execute_result"
    }
   ],
   "source": [
    "df_no_outlier = df[(df.height<77.91) & (df.height>54.82)]\n",
    "df_no_outlier.shape"
   ]
  },
  {
   "cell_type": "markdown",
   "metadata": {},
   "source": [
    "**(2) Outlier detection and removal using Z Score**\n",
    "\n",
    "Z score is a way to achieve same thing that we did above in part (1)\n",
    "\n",
    "Z score indicates how many standard deviation away a data point is.\n",
    "\n",
    "For example in our case mean is 66.37 and standard deviation is 3.84.\n",
    "\n",
    "If a value of a data point is 77.91 then Z score for that is 3 because it is 3 standard deviation away (77.91 = 66.37 + 3 * 3.84)\n",
    "\n",
    "Calculate the Z Score"
   ]
  },
  {
   "cell_type": "markdown",
   "metadata": {},
   "source": [
    "<img height=200 width=300 src=\"zscore.png\" />"
   ]
  },
  {
   "cell_type": "markdown",
   "metadata": {},
   "source": [
    "Let's add a new column in our dataframe for this Z score"
   ]
  },
  {
   "cell_type": "code",
   "execution_count": 91,
   "metadata": {},
   "outputs": [
    {
     "data": {
      "text/html": [
       "<div>\n",
       "<style scoped>\n",
       "    .dataframe tbody tr th:only-of-type {\n",
       "        vertical-align: middle;\n",
       "    }\n",
       "\n",
       "    .dataframe tbody tr th {\n",
       "        vertical-align: top;\n",
       "    }\n",
       "\n",
       "    .dataframe thead th {\n",
       "        text-align: right;\n",
       "    }\n",
       "</style>\n",
       "<table border=\"1\" class=\"dataframe\">\n",
       "  <thead>\n",
       "    <tr style=\"text-align: right;\">\n",
       "      <th></th>\n",
       "      <th>gender</th>\n",
       "      <th>height</th>\n",
       "      <th>zscore</th>\n",
       "    </tr>\n",
       "  </thead>\n",
       "  <tbody>\n",
       "    <tr>\n",
       "      <th>0</th>\n",
       "      <td>Male</td>\n",
       "      <td>73.847017</td>\n",
       "      <td>1.943964</td>\n",
       "    </tr>\n",
       "    <tr>\n",
       "      <th>1</th>\n",
       "      <td>Male</td>\n",
       "      <td>68.781904</td>\n",
       "      <td>0.627505</td>\n",
       "    </tr>\n",
       "    <tr>\n",
       "      <th>2</th>\n",
       "      <td>Male</td>\n",
       "      <td>74.110105</td>\n",
       "      <td>2.012343</td>\n",
       "    </tr>\n",
       "    <tr>\n",
       "      <th>3</th>\n",
       "      <td>Male</td>\n",
       "      <td>71.730978</td>\n",
       "      <td>1.393991</td>\n",
       "    </tr>\n",
       "    <tr>\n",
       "      <th>4</th>\n",
       "      <td>Male</td>\n",
       "      <td>69.881796</td>\n",
       "      <td>0.913375</td>\n",
       "    </tr>\n",
       "  </tbody>\n",
       "</table>\n",
       "</div>"
      ],
      "text/plain": [
       "  gender     height    zscore\n",
       "0   Male  73.847017  1.943964\n",
       "1   Male  68.781904  0.627505\n",
       "2   Male  74.110105  2.012343\n",
       "3   Male  71.730978  1.393991\n",
       "4   Male  69.881796  0.913375"
      ]
     },
     "execution_count": 91,
     "metadata": {},
     "output_type": "execute_result"
    }
   ],
   "source": [
    "df['zscore'] = ( df.height - df.height.mean() ) / df.height.std()\n",
    "df.head(5)"
   ]
  },
  {
   "cell_type": "markdown",
   "metadata": {},
   "source": [
    "Above for first record with height 73.84, z score is 1.94. This means 73.84 is 1.94 standard deviation away from mean"
   ]
  },
  {
   "cell_type": "code",
   "execution_count": 93,
   "metadata": {},
   "outputs": [
    {
     "data": {
      "text/plain": [
       "66.367559754866"
      ]
     },
     "execution_count": 93,
     "metadata": {},
     "output_type": "execute_result"
    }
   ],
   "source": [
    "df.height.mean()"
   ]
  },
  {
   "cell_type": "code",
   "execution_count": 94,
   "metadata": {},
   "outputs": [
    {
     "data": {
      "text/plain": [
       "3.847528120795573"
      ]
     },
     "execution_count": 94,
     "metadata": {},
     "output_type": "execute_result"
    }
   ],
   "source": [
    "df.height.std()"
   ]
  },
  {
   "cell_type": "code",
   "execution_count": 92,
   "metadata": {},
   "outputs": [
    {
     "data": {
      "text/plain": [
       "1.9453124999999998"
      ]
     },
     "execution_count": 92,
     "metadata": {},
     "output_type": "execute_result"
    }
   ],
   "source": [
    "(73.84-66.37)/3.84"
   ]
  },
  {
   "cell_type": "code",
   "execution_count": 95,
   "metadata": {},
   "outputs": [
    {
     "data": {
      "text/html": [
       "<div>\n",
       "<style scoped>\n",
       "    .dataframe tbody tr th:only-of-type {\n",
       "        vertical-align: middle;\n",
       "    }\n",
       "\n",
       "    .dataframe tbody tr th {\n",
       "        vertical-align: top;\n",
       "    }\n",
       "\n",
       "    .dataframe thead th {\n",
       "        text-align: right;\n",
       "    }\n",
       "</style>\n",
       "<table border=\"1\" class=\"dataframe\">\n",
       "  <thead>\n",
       "    <tr style=\"text-align: right;\">\n",
       "      <th></th>\n",
       "      <th>gender</th>\n",
       "      <th>height</th>\n",
       "      <th>zscore</th>\n",
       "    </tr>\n",
       "  </thead>\n",
       "  <tbody>\n",
       "    <tr>\n",
       "      <th>994</th>\n",
       "      <td>Male</td>\n",
       "      <td>78.095867</td>\n",
       "      <td>3.048271</td>\n",
       "    </tr>\n",
       "    <tr>\n",
       "      <th>1317</th>\n",
       "      <td>Male</td>\n",
       "      <td>78.462053</td>\n",
       "      <td>3.143445</td>\n",
       "    </tr>\n",
       "    <tr>\n",
       "      <th>2014</th>\n",
       "      <td>Male</td>\n",
       "      <td>78.998742</td>\n",
       "      <td>3.282934</td>\n",
       "    </tr>\n",
       "    <tr>\n",
       "      <th>3285</th>\n",
       "      <td>Male</td>\n",
       "      <td>78.528210</td>\n",
       "      <td>3.160640</td>\n",
       "    </tr>\n",
       "    <tr>\n",
       "      <th>3757</th>\n",
       "      <td>Male</td>\n",
       "      <td>78.621374</td>\n",
       "      <td>3.184854</td>\n",
       "    </tr>\n",
       "  </tbody>\n",
       "</table>\n",
       "</div>"
      ],
      "text/plain": [
       "     gender     height    zscore\n",
       "994    Male  78.095867  3.048271\n",
       "1317   Male  78.462053  3.143445\n",
       "2014   Male  78.998742  3.282934\n",
       "3285   Male  78.528210  3.160640\n",
       "3757   Male  78.621374  3.184854"
      ]
     },
     "execution_count": 95,
     "metadata": {},
     "output_type": "execute_result"
    }
   ],
   "source": [
    "df[df['zscore']>3]"
   ]
  },
  {
   "cell_type": "code",
   "execution_count": 96,
   "metadata": {
    "scrolled": true
   },
   "outputs": [
    {
     "data": {
      "text/html": [
       "<div>\n",
       "<style scoped>\n",
       "    .dataframe tbody tr th:only-of-type {\n",
       "        vertical-align: middle;\n",
       "    }\n",
       "\n",
       "    .dataframe tbody tr th {\n",
       "        vertical-align: top;\n",
       "    }\n",
       "\n",
       "    .dataframe thead th {\n",
       "        text-align: right;\n",
       "    }\n",
       "</style>\n",
       "<table border=\"1\" class=\"dataframe\">\n",
       "  <thead>\n",
       "    <tr style=\"text-align: right;\">\n",
       "      <th></th>\n",
       "      <th>gender</th>\n",
       "      <th>height</th>\n",
       "      <th>zscore</th>\n",
       "    </tr>\n",
       "  </thead>\n",
       "  <tbody>\n",
       "    <tr>\n",
       "      <th>6624</th>\n",
       "      <td>Female</td>\n",
       "      <td>54.616858</td>\n",
       "      <td>-3.054091</td>\n",
       "    </tr>\n",
       "    <tr>\n",
       "      <th>9285</th>\n",
       "      <td>Female</td>\n",
       "      <td>54.263133</td>\n",
       "      <td>-3.146027</td>\n",
       "    </tr>\n",
       "  </tbody>\n",
       "</table>\n",
       "</div>"
      ],
      "text/plain": [
       "      gender     height    zscore\n",
       "6624  Female  54.616858 -3.054091\n",
       "9285  Female  54.263133 -3.146027"
      ]
     },
     "execution_count": 96,
     "metadata": {},
     "output_type": "execute_result"
    }
   ],
   "source": [
    "df[df['zscore']<-3]"
   ]
  },
  {
   "cell_type": "code",
   "execution_count": null,
   "metadata": {},
   "outputs": [],
   "source": []
  }
 {
 "cells": [
  {
   "cell_type": "code",
   "execution_count": 1,
   "metadata": {},
   "outputs": [],
   "source": [
    "import pandas as pd"
   ]
  },
  {
   "cell_type": "code",
   "execution_count": 9,
   "metadata": {},
   "outputs": [
    {
     "data": {
      "text/html": [
       "<div>\n",
       "<style scoped>\n",
       "    .dataframe tbody tr th:only-of-type {\n",
       "        vertical-align: middle;\n",
       "    }\n",
       "\n",
       "    .dataframe tbody tr th {\n",
       "        vertical-align: top;\n",
       "    }\n",
       "\n",
       "    .dataframe thead th {\n",
       "        text-align: right;\n",
       "    }\n",
       "</style>\n",
       "<table border=\"1\" class=\"dataframe\">\n",
       "  <thead>\n",
       "    <tr style=\"text-align: right;\">\n",
       "      <th></th>\n",
       "      <th>company</th>\n",
       "      <th>revenue</th>\n",
       "    </tr>\n",
       "  </thead>\n",
       "  <tbody>\n",
       "    <tr>\n",
       "      <th>0</th>\n",
       "      <td>Tesla</td>\n",
       "      <td>31.0</td>\n",
       "    </tr>\n",
       "    <tr>\n",
       "      <th>1</th>\n",
       "      <td>UBER</td>\n",
       "      <td>11.0</td>\n",
       "    </tr>\n",
       "    <tr>\n",
       "      <th>2</th>\n",
       "      <td>Amazon</td>\n",
       "      <td>386.0</td>\n",
       "    </tr>\n",
       "    <tr>\n",
       "      <th>3</th>\n",
       "      <td>Jindal  Steel</td>\n",
       "      <td>4.7</td>\n",
       "    </tr>\n",
       "    <tr>\n",
       "      <th>4</th>\n",
       "      <td>Axis Bank</td>\n",
       "      <td>5.6</td>\n",
       "    </tr>\n",
       "    <tr>\n",
       "      <th>5</th>\n",
       "      <td>Vedanta</td>\n",
       "      <td>11.3</td>\n",
       "    </tr>\n",
       "  </tbody>\n",
       "</table>\n",
       "</div>"
      ],
      "text/plain": [
       "         company  revenue\n",
       "0         Tesla      31.0\n",
       "1           UBER     11.0\n",
       "2         Amazon    386.0\n",
       "3  Jindal  Steel      4.7\n",
       "4      Axis Bank      5.6\n",
       "5        Vedanta     11.3"
      ]
     },
     "execution_count": 9,
     "metadata": {},
     "output_type": "execute_result"
    }
   ],
   "source": [
    "df = pd.read_csv(\"revenue.csv\")\n",
    "df.head(10)"
   ]
  },
  {
   "cell_type": "code",
   "execution_count": 6,
   "metadata": {},
   "outputs": [
    {
     "data": {
      "text/plain": [
       "<AxesSubplot:xlabel='company'>"
      ]
     },
     "execution_count": 6,
     "metadata": {},
     "output_type": "execute_result"
    },
    {
     "data": {
      "image/png": "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\n",
      "text/plain": [
       "<Figure size 432x288 with 1 Axes>"
      ]
     },
     "metadata": {
      "needs_background": "light"
     },
     "output_type": "display_data"
    }
   ],
   "source": [
    "df.plot(x='company', y='revenue', kind='bar')"
   ]
  },
  {
   "cell_type": "code",
   "execution_count": 8,
   "metadata": {},
   "outputs": [
    {
     "data": {
      "text/plain": [
       "<AxesSubplot:xlabel='company'>"
      ]
     },
     "execution_count": 8,
     "metadata": {},
     "output_type": "execute_result"
    },
    {
     "data": {
      "image/png": "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\n",
      "text/plain": [
       "<Figure size 432x288 with 1 Axes>"
      ]
     },
     "metadata": {
      "needs_background": "light"
     },
     "output_type": "display_data"
    }
   ],
   "source": [
    "df.plot(x='company', y='revenue',kind='bar', logy=True)"
   ]
  }
 ],
 "metadata": {
  "kernelspec": {
   "display_name": "Python 3",
   "language": "python",
   "name": "python3"
  },
  "language_info": {
   "codemirror_mode": {
    "name": "ipython",
    "version": 3
   },
   "file_extension": ".py",
   "mimetype": "text/x-python",
   "name": "python",
   "nbconvert_exporter": "python",
   "pygments_lexer": "ipython3",
   "version": "3.8.5"
  }
 },
 "nbformat": 4,
 "nbformat_minor": 4
}
