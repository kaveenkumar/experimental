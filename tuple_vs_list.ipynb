my_list = [0, 1, 2, "hello", True]
my_tuple = (0, 1, 2, "hello", True)
